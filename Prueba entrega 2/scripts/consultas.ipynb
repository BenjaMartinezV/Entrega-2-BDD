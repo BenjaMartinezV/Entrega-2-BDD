{
 "cells": [
  {
   "cell_type": "code",
   "execution_count": 1,
   "metadata": {},
   "outputs": [],
   "source": [
    "import psycopg2\n",
    "from psycopg2 import sql\n",
    "from psycopg2 import Error"
   ]
  },
  {
   "cell_type": "code",
   "execution_count": 2,
   "metadata": {},
   "outputs": [],
   "source": [
    "DB_HOST = 'pavlov.ing.puc.cl'\n",
    "DB_PORT = '5432'\n",
    "DB_USER = 'grupo64'\n",
    "DB_PASSWORD = 'grupo64'\n",
    "DB_NAME = 'grupo64e2'"
   ]
  },
  {
   "cell_type": "code",
   "execution_count": null,
   "metadata": {},
   "outputs": [],
   "source": [
    "#1. Muestre todos los restaurantes que ofrezcan un plato espec´ıfico (string) ingresado y que est´e disponible.\n",
    "def consulta1():\n",
    "    query = \"SELECT Restaurant.nombre, Restaurant.sucursal \\\n",
    "             FROM Restaurant, Plato \\\n",
    "             WHERE Plato.nombre = %(nombre)s \\\n",
    "                AND Plato.disponibilidad = TRUE\"\n",
    "    return query"
   ]
  },
  {
   "cell_type": "code",
   "execution_count": null,
   "metadata": {},
   "outputs": [],
   "source": [
    "#2. Muestre todos los pedidos de un usuario espec´ıfico ingresado (email string)y su gasto mensual (solo los pedidos concretados)\n",
    "def consulta2():\n",
    "    query = \"SELECT * \\\n",
    "             FROM Pedido, Usuario \\\n",
    "             WHERE Pedido.email = %(email)s \\\n",
    "                AND Pedido.usuario_id = Usuario.id\""
   ]
  },
  {
   "cell_type": "code",
   "execution_count": null,
   "metadata": {},
   "outputs": [],
   "source": [
    "#3. Muestre todos pedidos concretados y cancelados y el valor total de ellos\n",
    "def consulta3():\n",
    "    query = \"SELECT * \\\n",
    "             FROM Pedido \\\n",
    "             WHERE Pedido.estado IN ('entregado a cliente', 'cliente cancela', 'delivery cancelo', 'restaurante cancela')\"\n",
    "    return query"
   ]
  },
  {
   "cell_type": "code",
   "execution_count": null,
   "metadata": {},
   "outputs": [],
   "source": [
    "#4. Dado un estilo de plato ingresado por el usuario (string) , muestre todas los platos con ese tipo, los restaurantes que las ofrecen y las opciones de delivery.\n",
    "def consulta4():\n",
    "    query = \"SELECT Plato.nombre, Res_emp.nombre, Res_emp.sucursal, Res_emp.nombre_emp \\\n",
    "                FROM Plato, (SELECT Restaurant.nombre, Restaurant.Sucursal, Empresa.nombre) \\\n",
    "                             FROM Restaurant, Empresa, Restaurant_empresa \\\n",
    "                                WHERE Restaurant_empresa.restaurant_id = Restaurant.id \\\n",
    "                                    AND Restaurant_empresa.empresa_id = Empresa.id) as Res_em \\\n",
    "                WHERE Plato.estilo = %(estilo)s \\\n",
    "                AND Plato.restaurant_id = Res_em.restaurant_id \\\n",
    "                AND Plato.disponibilidad = TRUE\"\n",
    "    return query"
   ]
  },
  {
   "cell_type": "code",
   "execution_count": null,
   "metadata": {},
   "outputs": [],
   "source": [
    "#5. Dado un estilo de plato ingresado (string) por el usuario, muestre todas las platos que pertenezcan a ese estilo y sus restricciones.\n",
    "def consulta5():\n",
    "    query = \"SELECT Restaurant.nombre, Restaurant.sucursal, Plato.nombre, Plato.restriccion \\\n",
    "             FROM Plato, Restaurant \\\n",
    "             WHERE Plato.disponibilidad = TRUE \\\n",
    "             AND Plato.estilo = %(estilo)s \\\n",
    "             AND Plato.restaurant_id = Restaurant.id\"\n",
    "    return query"
   ]
  },
  {
   "cell_type": "code",
   "execution_count": null,
   "metadata": {},
   "outputs": [],
   "source": [
    "#6. Dado un cliente ingresado por el usuario (email string), muestre todas las restaurantes a las que tiene acceso con sus suscripciones.\n",
    "def consulta6():\n",
    "    query = \"SELECT Restaurant.nombre, Restaurant.sucursal, Empresa.nombre \\\n",
    "             FROM Restaurant, Usuario, Restaurant_empresa, Suscripcion, Empresa \\\n",
    "             WHERE Usuario.email = %(email)s \\\n",
    "             AND Usuario.id = Suscripcion.usuario_id \\\n",
    "             AND Restaurant.id = Restaurant_empresa.restaurant_id \\\n",
    "             AND Suscripcion.empresa_id = Empresa.id \\\n",
    "             AND Restaurant_empresa.empresa_id = Empresa.id\"\n",
    "    return query"
   ]
  },
  {
   "cell_type": "code",
   "execution_count": null,
   "metadata": {},
   "outputs": [],
   "source": [
    "#7. Muestre la suma de dinero gastada por cada cliente en pedidos no incluidas en planes de suscripci´on.\n",
    "def consulta7():\n",
    "    query = \"SELECT Usuario.email, SUM(Pedido.total) \\\n",
    "             FROM Usuario, Pedido \\\n",
    "             WHERE Usuario.id = Pedido.usuario_id \\\n",
    "             AND Pedido.estado = 'entregado a cliente' \\\n",
    "             AND Pedido.suscripcion_id IS NULL \\\n",
    "             GROUP BY Usuario.email\"\n",
    "    return query"
   ]
  },
  {
   "cell_type": "code",
   "execution_count": null,
   "metadata": {},
   "outputs": [],
   "source": [
    "#8. Muestre todos los platos y los restaurantes que los ofrecen.\n",
    "def consulta8():\n",
    "    query = \"SELECT Plato.nombre, Restaurant.nombre, Restaurant.sucursal \\\n",
    "             FROM Plato, Restaurant \\\n",
    "             WHERE Plato.restaurant_id = Restaurant.id \\\n",
    "             AND Plato.disponibilidad = TRUE\"\n",
    "    return query"
   ]
  },
  {
   "cell_type": "code",
   "execution_count": null,
   "metadata": {},
   "outputs": [],
   "source": [
    "#9. Dado un n´umero (1-5)ingresado por el usuario, muestre todos las evaluaciones de Clientes, Delivery, Despachador superiores o iguales a ´el.\n",
    "def consulta9(evaluacion):\n",
    "    query = \"SELECT Pedido.id, Pedido.evaluacion_cliente \\\n",
    "             FROM Pedido \\\n",
    "             WHERE Pedido.evaluacion_cliente >= %(numero)s\"\n",
    "    \n",
    "    query2 = \"SELECT Pedido.id, Pedido.evaluacion_delivery \\\n",
    "                FROM Pedido \\\n",
    "                WHERE Pedido.evaluacion_delivery >= %(numero)s\"\n",
    "    \n",
    "    query3 = \"SELECT Pedido.id, Pedido.evaluacion_despachador \\\n",
    "                FROM Pedido \\\n",
    "                WHERE Pedido.evaluacion_despachador >= %(numero)s\"\n",
    "    \n",
    "    if evaluacion == 'cliente':\n",
    "        return query\n",
    "    elif evaluacion == 'delivery':\n",
    "        return query2\n",
    "    elif evaluacion == 'despachador':\n",
    "        return query3\n"
   ]
  },
  {
   "cell_type": "code",
   "execution_count": null,
   "metadata": {},
   "outputs": [],
   "source": [
    "#10. Dado una un alergeno ingresado por el usuario (string), muestre todos los platos que lo contengan en sus ingredientes (Ejemplo: man´ı).\n",
    "def consulta10():\n",
    "    query = 'SELECT Restaurant.nombre, Restaurant.sucursal, Plato.nombre \\\n",
    "             FROM Plato, Restaurant \\\n",
    "             WHERE  Plato.ingredientes LIKE %%(alergeno)s\\\n",
    "             AND Plato.disponibilidad = TRUE \\\n",
    "             AND Plato.restaurant_id = Restaurant.id'\n",
    "    return query"
   ]
  }
 ],
 "metadata": {
  "kernelspec": {
   "display_name": "Python 3",
   "language": "python",
   "name": "python3"
  },
  "language_info": {
   "codemirror_mode": {
    "name": "ipython",
    "version": 3
   },
   "file_extension": ".py",
   "mimetype": "text/x-python",
   "name": "python",
   "nbconvert_exporter": "python",
   "pygments_lexer": "ipython3",
   "version": "3.10.12"
  }
 },
 "nbformat": 4,
 "nbformat_minor": 2
}
