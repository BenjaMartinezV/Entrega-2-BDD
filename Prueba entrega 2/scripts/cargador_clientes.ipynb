{
 "cells": [
  {
   "cell_type": "code",
   "execution_count": 22,
   "metadata": {},
   "outputs": [],
   "source": [
    "import psycopg2\n",
    "from psycopg2 import sql\n",
    "from psycopg2 import Error"
   ]
  },
  {
   "cell_type": "code",
   "execution_count": 23,
   "metadata": {},
   "outputs": [],
   "source": [
    "DB_HOST = 'pavlov.ing.puc.cl'\n",
    "DB_PORT = '5432'\n",
    "DB_USER = 'grupo64'\n",
    "DB_PASSWORD = 'grupo64'\n",
    "DB_NAME = 'grupo64e2'"
   ]
  },
  {
   "cell_type": "code",
   "execution_count": 38,
   "metadata": {},
   "outputs": [
    {
     "name": "stdout",
     "output_type": "stream",
     "text": [
      "<connection object at 0x000001CD34952AC0; dsn: 'user=grupo64 password=xxx dbname=grupo64e2 host=pavlov.ing.puc.cl port=5432', closed: 0>\n",
      "<cursor object at 0x000001CD34EAF220; closed: 0>\n",
      "Tabla clientes eliminada si existía\n",
      "['cliente', 'email', 'telefono', 'clave', 'direccion', 'comuna']\n"
     ]
    }
   ],
   "source": [
    "\n",
    "# Ruta del archivo CSV\n",
    "archivo_csv = '../datos e2/clientes.csv'\n",
    "\n",
    "# Configuración de la conexión\n",
    "try:\n",
    "    conexion = psycopg2.connect(\n",
    "        dbname=DB_NAME,\n",
    "        user=DB_USER,\n",
    "        password=DB_PASSWORD,\n",
    "        host=DB_HOST,\n",
    "        port=DB_PORT\n",
    "    )\n",
    "    # Crear un cursor\n",
    "    cursor = conexion.cursor()\n",
    "\n",
    "    # Dropear la tabla si ya existe\n",
    "    drop_table_query = \"DROP TABLE IF EXISTS clientes;\"\n",
    "    cursor.execute(drop_table_query)\n",
    "    print(\"Tabla clientes eliminada si existía\")\n",
    "\n",
    "    # Crear la tabla (ajusta esto según tu esquema de datos)\n",
    "    crear_tabla_query = \"\"\"\n",
    "    CREATE TABLE IF NOT EXISTS clientes (\n",
    "        id SERIAL,\n",
    "        nombre varchar   NOT NULL,\n",
    "        email varchar   NOT NULL,\n",
    "        telefono varchar   NOT NULL,\n",
    "        clave varchar       NOT NULL,\n",
    "        direccion varchar   NOT NULL,\n",
    "        comuna varchar    NOT NULL,\n",
    "        CONSTRAINT pk_Cliente PRIMARY KEY (\n",
    "            id))\n",
    "    \"\"\"\n",
    "    cursor.execute(crear_tabla_query)\n",
    "    conexion.commit()\n",
    "\n",
    "    # Preparar el query de inserción\n",
    "    insercion_query = \"\"\"\n",
    "    INSERT INTO clientes (nombre, email, telefono, clave, direccion, comuna)\n",
    "    VALUES (%s, %s, %s, %s, %s, %s);\n",
    "    \"\"\"\n",
    "\n",
    "    # Leer y procesar el archivo CSV\n",
    "    with open(archivo_csv, 'r') as file:\n",
    "        # Leer la primera línea para obtener los nombres de las columnas\n",
    "        columnas = file.readline().strip().split(';')\n",
    "        lista_clientes = []\n",
    "        cliente_aux = \"\"\n",
    "        # Iterar sobre cada línea en el archivo CSV\n",
    "        for linea in file:\n",
    "            # Dividir la línea en valores\n",
    "            valores = linea.strip().split(';')\n",
    "            if len(valores) != 6 :\n",
    "                if len(cliente_aux.strip().split(';')) == 6 or len(cliente_aux.strip().split(';')) == 0:\n",
    "                    cliente_aux = linea\n",
    "                else:\n",
    "                    cliente_aux += linea\n",
    "                valores = cliente_aux\n",
    "            else:\n",
    "                lista_clientes.append(valores)\n",
    "        for cliente in lista_clientes:\n",
    "            try:\n",
    "                cursor.execute(insercion_query, (cliente[0], cliente[1], cliente[2], cliente[3], cliente[4], cliente[5]))\n",
    "            except Error as e:\n",
    "                    print(f\"Error al insertar la línea {linea}: {e}\")\n",
    "                    conexion.rollback()\n",
    "                    continue\n",
    "\n",
    "    # Confirmar la inserción\n",
    "    conexion.commit()\n",
    "\n",
    "except Error as e:\n",
    "    print(f\"Error de conexión o durante la operación en la base de datos: {e}\")\n",
    "\n",
    "finally:\n",
    "\n",
    "    if cursor:\n",
    "        cursor.close()\n",
    "    if conexion:\n",
    "        conexion.close()"
   ]
  }
 ],
 "metadata": {
  "kernelspec": {
   "display_name": "Python 3",
   "language": "python",
   "name": "python3"
  },
  "language_info": {
   "codemirror_mode": {
    "name": "ipython",
    "version": 3
   },
   "file_extension": ".py",
   "mimetype": "text/x-python",
   "name": "python",
   "nbconvert_exporter": "python",
   "pygments_lexer": "ipython3",
   "version": "3.12.3"
  }
 },
 "nbformat": 4,
 "nbformat_minor": 2
}
